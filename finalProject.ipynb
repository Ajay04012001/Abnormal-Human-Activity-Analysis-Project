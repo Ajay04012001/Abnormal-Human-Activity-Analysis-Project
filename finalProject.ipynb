{
  "cells": [
    {
      "cell_type": "code",
      "execution_count": null,
      "metadata": {
        "colab": {
          "base_uri": "https://localhost:8080/"
        },
        "id": "_W8ZmVolFuBV",
        "outputId": "3e94ea95-ed76-44c2-b397-5eee14c7b66e"
      },
      "outputs": [
        {
          "name": "stdout",
          "output_type": "stream",
          "text": [
            "Looking in indexes: https://pypi.org/simple, https://us-python.pkg.dev/colab-wheels/public/simple/\n",
            "Collecting telepot\n",
            "  Downloading telepot-12.7.tar.gz (73 kB)\n",
            "\u001b[K     |████████████████████████████████| 73 kB 1.8 MB/s \n",
            "\u001b[?25hRequirement already satisfied: urllib3>=1.9.1 in /usr/local/lib/python3.8/dist-packages (from telepot) (1.24.3)\n",
            "Requirement already satisfied: aiohttp>=3.0.0 in /usr/local/lib/python3.8/dist-packages (from telepot) (3.8.3)\n",
            "Requirement already satisfied: multidict<7.0,>=4.5 in /usr/local/lib/python3.8/dist-packages (from aiohttp>=3.0.0->telepot) (6.0.3)\n",
            "Requirement already satisfied: aiosignal>=1.1.2 in /usr/local/lib/python3.8/dist-packages (from aiohttp>=3.0.0->telepot) (1.3.1)\n",
            "Requirement already satisfied: async-timeout<5.0,>=4.0.0a3 in /usr/local/lib/python3.8/dist-packages (from aiohttp>=3.0.0->telepot) (4.0.2)\n",
            "Requirement already satisfied: frozenlist>=1.1.1 in /usr/local/lib/python3.8/dist-packages (from aiohttp>=3.0.0->telepot) (1.3.3)\n",
            "Requirement already satisfied: charset-normalizer<3.0,>=2.0 in /usr/local/lib/python3.8/dist-packages (from aiohttp>=3.0.0->telepot) (2.1.1)\n",
            "Requirement already satisfied: attrs>=17.3.0 in /usr/local/lib/python3.8/dist-packages (from aiohttp>=3.0.0->telepot) (22.1.0)\n",
            "Requirement already satisfied: yarl<2.0,>=1.0 in /usr/local/lib/python3.8/dist-packages (from aiohttp>=3.0.0->telepot) (1.8.2)\n",
            "Requirement already satisfied: idna>=2.0 in /usr/local/lib/python3.8/dist-packages (from yarl<2.0,>=1.0->aiohttp>=3.0.0->telepot) (2.10)\n",
            "Building wheels for collected packages: telepot\n",
            "  Building wheel for telepot (setup.py) ... \u001b[?25l\u001b[?25hdone\n",
            "  Created wheel for telepot: filename=telepot-12.7-py3-none-any.whl size=57961 sha256=5a096a4d5552ff2f7dc5e18a3e09ea54fa16d0459f132437739465579e7198bb\n",
            "  Stored in directory: /root/.cache/pip/wheels/0a/73/dd/75fa4fa1ea51bc3d2406f8862c5c5e703ebbf9f6bb059f302d\n",
            "Successfully built telepot\n",
            "Installing collected packages: telepot\n",
            "Successfully installed telepot-12.7\n"
          ]
        }
      ],
      "source": [
        "pip install telepot\n"
      ]
    },
    {
      "cell_type": "code",
      "execution_count": null,
      "metadata": {
        "id": "b7aiCwazIxcO"
      },
      "outputs": [],
      "source": [
        "from keras.models import load_model\n",
        "from collections import deque\n",
        "import matplotlib.pyplot as plt\n",
        "import numpy as np\n",
        "import argparse\n",
        "import pickle\n",
        "import cv2\n",
        "import telepot\n",
        "from datetime import datetime\n",
        "import pytz"
      ]
    },
    {
      "cell_type": "code",
      "execution_count": null,
      "metadata": {
        "id": "RkVsI6VOI4D8"
      },
      "outputs": [],
      "source": [
        "def getTime():\n",
        "  IST = pytz.timezone('Asia/Kolkata')\n",
        "  timeNow = datetime.now(IST)\n",
        "  return timeNow\n",
        "  "
      ]
    },
    {
      "cell_type": "code",
      "execution_count": null,
      "metadata": {
        "id": "zOfdZXUvJJgd"
      },
      "outputs": [],
      "source": [
        "\n",
        "import numpy as np\n",
        "import argparse\n",
        "import pickle\n",
        "import cv2\n",
        "from google.colab.patches import cv2_imshow\n",
        "import os\n",
        "import time \n",
        "from keras.models import load_model\n",
        "from collections import deque\n",
        "\n",
        "def print_results(video, limit=None):\n",
        "        trueCount = 0\n",
        "        imageSaved = 0\n",
        "        filename = 'savedImage.jpg'\n",
        "        finalImage = 'finaImage.jpg'\n",
        "        sendAlert = 0\n",
        "        location = \"Bangalore\"\n",
        "        #fig=plt.figure(figsize=(16, 30))\n",
        "\n",
        "        print(\"Loading model ...\")\n",
        "        model = load_model('/home/modelnew.h5')\n",
        "        Q = deque(maxlen=128)\n",
        "        vs = cv2.VideoCapture(video)\n",
        "        writer = None\n",
        "        (W, H) = (None, None)\n",
        "        count = 0     \n",
        "        while True:\n",
        "            # read the next frame from the file\n",
        "            (grabbed, frame) = vs.read()\n",
        "\n",
        "            # if the frame was not grabbed, then we have reached the end\n",
        "            # of the stream\n",
        "            if not grabbed:\n",
        "                break\n",
        "            \n",
        "            # if the frame dimensions are empty, grab them\n",
        "            if W is None or H is None:\n",
        "                (H, W) = frame.shape[:2]\n",
        "\n",
        "            # clone the output frame, then convert it from BGR to RGB\n",
        "            # ordering, resize the frame to a fixed 128x128, and then\n",
        "            # perform mean subtraction\n",
        "\n",
        "            \n",
        "            output = frame.copy()\n",
        "           \n",
        "            frame = cv2.cvtColor(frame, cv2.COLOR_BGR2RGB)\n",
        "            frame = cv2.resize(frame, (128, 128)).astype(\"float32\")\n",
        "            frame = frame.reshape(128, 128, 3) / 255\n",
        "\n",
        "            # make predictions on the frame and then update the predictions\n",
        "            # queue\n",
        "            preds = model.predict(np.expand_dims(frame, axis=0))[0]\n",
        "#             print(\"preds\",preds)\n",
        "            Q.append(preds)\n",
        "\n",
        "            # perform prediction averaging over the current history of\n",
        "            # previous predictions\n",
        "            results = np.array(Q).mean(axis=0)\n",
        "            i = (preds > 0.50)[0]\n",
        "            label = i\n",
        "\n",
        "            text_color = (0, 255, 0) # default : green\n",
        "\n",
        "            if label: # Violence prob\n",
        "                text_color = (0, 0, 255) # red\n",
        "                trueCount = trueCount + 1\n",
        "\n",
        "            else:\n",
        "                text_color = (0, 255, 0)\n",
        "\n",
        "            text = \"Abnormal activity: {}\".format(label)\n",
        "            FONT = cv2.FONT_HERSHEY_SIMPLEX \n",
        "\n",
        "            cv2.putText(output, text, (35, 50), FONT,1.25, text_color, 3) \n",
        "\n",
        "            # check if the video writer is None\n",
        "            if writer is None:\n",
        "                # initialize our video writer\n",
        "                fourcc = cv2.VideoWriter_fourcc(*\"MJPG\")\n",
        "                writer = cv2.VideoWriter(\"recordedVideo.avi\", fourcc, 30,(W, H), True)\n",
        "\n",
        "            # write the output frame to disk\n",
        "            writer.write(output)\n",
        "\n",
        "            # show the output image\n",
        "            cv2_imshow(output)\n",
        "\n",
        "            if(trueCount == 50):\n",
        "              if(imageSaved == 0):\n",
        "                if(label):\n",
        "                  cv2.imwrite(filename, output)\n",
        "                  imageSaved = 1\n",
        "            \n",
        "              if(sendAlert == 0):\n",
        "                timeMoment = getTime()\n",
        "                bot = telepot.Bot('5937450627:AAHx6KUXxR1UH0-gOo3cpWPgvBRdhK0hSSc')\n",
        "                bot.sendMessage(-1001815639821, f\"Abnormal Behavior!! \\nLOCATION: {location} \\nTIME: {timeMoment}\")\n",
        "                bot.sendPhoto(-1001815639821, photo=open(filename, 'rb')) \n",
        "                sendAlert = 1\n",
        "\n",
        "            key = cv2.waitKey(1) & 0xFF\n",
        "\n",
        "            # if the `q` key was pressed, break from the loop\n",
        "            if key == ord(\"q\"):\n",
        "                break\n",
        "        # release the file pointersq\n",
        "        print(\"[INFO] cleaning up...\")\n",
        "        writer.release()\n",
        "        vs.release()"
      ]
    },
    {
      "cell_type": "code",
      "execution_count": null,
      "metadata": {
        "id": "rT5ncUW8LVZI"
      },
      "outputs": [],
      "source": [
        "V_path = \"/home/V_19.mp4\"  \n",
        "NV_path = \"/nonv.mp4\"  "
      ]
    },
    {
      "cell_type": "code",
      "execution_count": null,
      "metadata": {
        "colab": {
          "background_save": true
        },
        "id": "v83R0J2qLcyX",
        "outputId": "b2545384-5414-4f64-96c7-1a87490ee793"
      },
      "outputs": [],
      "source": [
        "print_results(V_path)\n"
      ]
    }
  ],
  "metadata": {
    "accelerator": "GPU",
    "colab": {
      "provenance": []
    },
    "gpuClass": "standard",
    "kernelspec": {
      "display_name": "Python 3",
      "name": "python3"
    },
    "language_info": {
      "name": "python"
    }
  },
  "nbformat": 4,
  "nbformat_minor": 0
}