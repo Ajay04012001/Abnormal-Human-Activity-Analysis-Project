{
 "cells": [
  {
   "cell_type": "code",
   "execution_count": null,
   "id": "b0bd30e7",
   "metadata": {},
   "outputs": [],
   "source": []
  },
  {
   "cell_type": "code",
   "execution_count": null,
   "metadata": {},
   "outputs": [],
   "source": []
  }
 ],
 "metadata": {
  "language_info": {
   "name": "python"
  }
 },
 "nbformat": 4,
 "nbformat_minor": 5
}
